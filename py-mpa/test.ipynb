{
 "cells": [
  {
   "cell_type": "code",
   "execution_count": 1,
   "metadata": {},
   "outputs": [],
   "source": [
    "import os\n",
    "from astropy.io import fits\n",
    "import numpy as np\n",
    "import matplotlib.pyplot as plt\n",
    "\n",
    "dir_maps = './'\n",
    "dir_logcube = './'\n",
    "\n",
    "\n"
   ]
  },
  {
   "cell_type": "code",
   "execution_count": 5,
   "metadata": {},
   "outputs": [
    {
     "data": {
      "text/plain": [
       "10782"
      ]
     },
     "execution_count": 5,
     "metadata": {},
     "output_type": "execute_result"
    }
   ],
   "source": [
    "len(fits.open('../dapall-v3_1_1-3.1.0.fits')[1].data['PLATE'])"
   ]
  },
  {
   "cell_type": "code",
   "execution_count": 2,
   "metadata": {},
   "outputs": [],
   "source": [
    "hdu = fits.open('../dapall-v3_1_1-3.1.0.fits')"
   ]
  },
  {
   "cell_type": "code",
   "execution_count": 9,
   "metadata": {},
   "outputs": [
    {
     "data": {
      "text/plain": [
       "array([ 1902, 12704,  1901, ...,  3701,  1901, 12705], dtype='>i8')"
      ]
     },
     "execution_count": 9,
     "metadata": {},
     "output_type": "execute_result"
    }
   ],
   "source": [
    "hdu[1].data['IFUDESIGN']"
   ]
  },
  {
   "cell_type": "code",
   "execution_count": null,
   "metadata": {},
   "outputs": [],
   "source": [
    "def stack_logcube(region, cubefile=None, mapsfile=None,\n",
    "                  rmin=0., rmax=-1., pamin=0., pamax=360., recustom=-1.0,):\n",
    "    \"\"\"Stack DAP LOGCUBE spectra based on given morphology mode.\n",
    "\n",
    "    Args:\n",
    "        mode (str): 'online' or 'local'.\n",
    "        region (str): Type of stacked region. Supported: 'all', 'cen', 'rering', 'pasector'.\n",
    "        plate (int, optional): Plate number, only for 'online' mode. Defaults to None.\n",
    "        ifudesign (int, optional): IFU number, only for 'online' mode. Defaults to None.\n",
    "        cubefile (str, optional): File path for LOGCUBE file, only for 'local' mode. Defaults to None.\n",
    "        mapsfile (str, optional): File path for MAPS file, only for 'local' mode. Defaults to None.\n",
    "        rmin (float, optional): For 'rering' or 'pasector' mode, the inner radius of the ring or sector region. Defaults to 0.0.\n",
    "        rmax (float, optional): For 'rering' or 'pasector' mode, the outer radius of the ring region. Will be changed to resolution if remax<fwhm. Defaults to -1.0.\n",
    "        pamin (float, optional): For 'pasector' mode, the start PA in clockwise direction. Defaults to 0.0.\n",
    "        pamax (float, optional): For 'pasector' mode, the end PA in clockwise direction. Defaults to 360.0.\n",
    "        recustom (float, optional): For 'rering' mode, the 1 unit radius in arcsec. Must be positive number.\n",
    "        \n",
    "    Returns:\n",
    "        turple with 4: observed wavelength, stacked spectra, 1 sigma error, number of spectra used for stacking along the wavelength\n",
    "    \"\"\"    \n",
    "    \n",
    "    if ~(np.sum(region == np.array(['all', 'cen', 'rering', 'pasector'])) == 1):\n",
    "        raise RuntimeError(\"Stack region should be 'tot', 'cen', 'rering', or 'pasector'!\")\n",
    "    \n",
    "    hducube = fits.open(cubefile)\n",
    "    hdumaps = fits.open(mapsfile)\n",
    "\n",
    "    try:  \n",
    "        wave = hducube['WAVE'].data\n",
    "        flux = hducube['FLUX'].data\n",
    "        ivar = hducube['IVAR'].data\n",
    "        mask = hducube['MASK'].data\n",
    "        remap = hdumaps['SPX_ELLCOO'].data[1, :, :]\n",
    "        # kpcmap = hdumaps['SPX_ELLCOO'].data[2, :, :] / 0.7\n",
    "        pamap = hdumaps['SPX_ELLCOO'].data[3, :, :]\n",
    "        rfwhm = hdumaps[0].header['RFWHM'] / 2.0\n",
    "    except Exception:\n",
    "        raise RuntimeError(\"Not valid LOGCUBE or MAPS file!\")\n",
    "\n",
    "    try:\n",
    "        bta = 1.0 - hdumaps[0].header['ECOOELL']\n",
    "        # redap = hdumaps[0].header['REFF']\n",
    "        padap = hdumaps[0].header['ECOOPA']\n",
    "    except Exception:\n",
    "        bta = 1.0\n",
    "        # redap = 1.0\n",
    "        padap = 0.0\n",
    "        print(\"Warning: No valid 'Re' measurement!\")\n",
    "\n",
    "    arcmap = hdumaps['SPX_ELLCOO'].data[0, :, :]\n",
    "    mapmaxarc, mapmaxre = np.nanmax(arcmap), np.nanmax(remap)\n",
    "    rmax = rmax if rmax > 0 else np.max([mapmaxarc, mapmaxre])\n",
    "    roundmap = np.sqrt((np.cos(pamap / 180.0 * np.pi) * arcmap)**2 + \n",
    "                       (np.sin(pamap / 180.0 * np.pi) * arcmap * bta)**2)\n",
    "\n",
    "    if region == 'all':\n",
    "        rcut = remap >= 0\n",
    "    elif region == 'cen':\n",
    "        rcut = roundmap <= 1.5  # rfwhm\n",
    "    elif (region == 'rering'):\n",
    "        if (rmax * mapmaxarc / mapmaxre) < rfwhm:\n",
    "            print(\"Warning: 'rmax' is smaller than the resolution!\")\n",
    "        if recustom > 0:\n",
    "            remap = arcmap / recustom\n",
    "        rcut = (remap <= rmax) & (remap >= rmin)\n",
    "    elif region == 'pasector':\n",
    "        if (pamax > pamin):\n",
    "            if (rmax * mapmaxarc / mapmaxre) < rfwhm:\n",
    "                print(\"Warning: 'rmax' is smaller than the resolution! Return empty spectra.\")\n",
    "            pamap = np.mod(pamap + padap, 360.0) - pamin        \n",
    "            rcut = (remap <= rmax) & (remap >= rmin) & (roundmap >= rfwhm) & ((pamap >= 0) & (pamap <= (pamax - pamin)) | (pamap >= 180.0) & (pamap <= (pamax - pamin + 180.0)))\n",
    "        else:\n",
    "            raise RuntimeError(\"Invalid 'pamin' or 'pamax'! Define them in clockwise direction.\")\n",
    "    \n",
    "    nstack = np.sum(rcut)\n",
    "    if nstack == 0:\n",
    "        print(\"Warning: No spectra found in defined region! Return empty spectra.\")\n",
    "        return (wave, np.zeros_like(wave) - np.nan, np.zeros_like(wave) - np.nan, np.zeros_like(wave, dtype=int))\n",
    "    else:\n",
    "        flux[mask > 0] = np.nan  # mask 5578 skyline\n",
    "        ivar[mask > 0] = np.nan\n",
    "        goodspec = np.sum(~np.isnan(flux[:, rcut]), axis=1)\n",
    "        goodspec[(wave >= 5570) & (wave <= 5586)] = 0\n",
    "        fluxstack = np.nanmean(flux[:, rcut], axis=1) * goodspec\n",
    "        errstack = np.sqrt(np.nanmean(1. / ivar[:, rcut], axis=1) * goodspec) \n",
    "        fluxstack[(wave >= 5570) & (wave <= 5586)] = np.nan\n",
    "        errstack[(wave >= 5570) & (wave <= 5586)] = np.nan\n",
    "        \n",
    "        return wave, fluxstack, errstack, goodspec\n",
    "    \n",
    "    hducube.close()\n",
    "    hdumaps.close()  "
   ]
  },
  {
   "cell_type": "code",
   "execution_count": null,
   "metadata": {},
   "outputs": [],
   "source": [
    "\n",
    "file_maps = './manga-7443-12703-MAPS-SPX-MILESHC-MASTARSSP.fits.gz'\n",
    "file_logcube = './manga-7443-12703-LOGCUBE-SPX-MILESHC-MASTARSSP.fits.gz'\n",
    "# maps = fits.open(file_maps)\n",
    "w_test, f_test, ef_test, gspec_test = stack_logcube('remap', )"
   ]
  },
  {
   "cell_type": "code",
   "execution_count": 5,
   "metadata": {},
   "outputs": [
    {
     "name": "stdout",
     "output_type": "stream",
     "text": [
      "Filename: ./manga-7443-12703-MAPS-SPX-MILESHC-MASTARSSP.fits.gz\n",
      "No.    Name      Ver    Type      Cards   Dimensions   Format\n",
      "  0  PRIMARY       1 PrimaryHDU     141   ()      \n",
      "  1  SPX_SKYCOO    1 ImageHDU        44   (74, 74, 2)   float32   \n",
      "  2  SPX_ELLCOO    1 ImageHDU        49   (74, 74, 4)   float32   \n",
      "  3  SPX_MFLUX     1 ImageHDU        37   (74, 74)   float32   \n",
      "  4  SPX_MFLUX_IVAR    1 ImageHDU        38   (74, 74)   float32   \n",
      "  5  SPX_SNR       1 ImageHDU        35   (74, 74)   float32   \n",
      "  6  BINID         1 ImageHDU        46   (74, 74, 5)   int32   \n",
      "  7  BIN_LWSKYCOO    1 ImageHDU        44   (74, 74, 2)   float32   \n",
      "  8  BIN_LWELLCOO    1 ImageHDU        49   (74, 74, 4)   float32   \n",
      "  9  BIN_AREA      1 ImageHDU        36   (74, 74)   float32   \n",
      " 10  BIN_FAREA     1 ImageHDU        35   (74, 74)   float32   \n",
      " 11  BIN_MFLUX     1 ImageHDU        38   (74, 74)   float32   \n",
      " 12  BIN_MFLUX_IVAR    1 ImageHDU        39   (74, 74)   float32   \n",
      " 13  BIN_MFLUX_MASK    1 ImageHDU        38   (74, 74)   int32   \n",
      " 14  BIN_SNR       1 ImageHDU        35   (74, 74)   float32   \n",
      " 15  STELLAR_VEL    1 ImageHDU        38   (74, 74)   float32   \n",
      " 16  STELLAR_VEL_IVAR    1 ImageHDU        39   (74, 74)   float32   \n",
      " 17  STELLAR_VEL_MASK    1 ImageHDU        38   (74, 74)   int32   \n",
      " 18  STELLAR_SIGMA    1 ImageHDU        38   (74, 74)   float32   \n",
      " 19  STELLAR_SIGMA_IVAR    1 ImageHDU        39   (74, 74)   float32   \n",
      " 20  STELLAR_SIGMA_MASK    1 ImageHDU        38   (74, 74)   int32   \n",
      " 21  STELLAR_SIGMACORR    1 ImageHDU        44   (74, 74, 2)   float32   \n",
      " 22  STELLAR_FOM    1 ImageHDU        59   (74, 74, 9)   float32   \n",
      " 23  EMLINE_SFLUX    1 ImageHDU        79   (74, 74, 35)   float32   \n",
      " 24  EMLINE_SFLUX_IVAR    1 ImageHDU        80   (74, 74, 35)   float32   \n",
      " 25  EMLINE_SFLUX_MASK    1 ImageHDU        79   (74, 74, 35)   int32   \n",
      " 26  EMLINE_SEW    1 ImageHDU        79   (74, 74, 35)   float32   \n",
      " 27  EMLINE_SEW_CNT    1 ImageHDU        77   (74, 74, 35)   float32   \n",
      " 28  EMLINE_SEW_IVAR    1 ImageHDU        80   (74, 74, 35)   float32   \n",
      " 29  EMLINE_SEW_MASK    1 ImageHDU        79   (74, 74, 35)   int32   \n",
      " 30  EMLINE_GFLUX    1 ImageHDU        79   (74, 74, 35)   float32   \n",
      " 31  EMLINE_GFLUX_IVAR    1 ImageHDU        80   (74, 74, 35)   float32   \n",
      " 32  EMLINE_GFLUX_MASK    1 ImageHDU        79   (74, 74, 35)   int32   \n",
      " 33  EMLINE_GEW    1 ImageHDU        79   (74, 74, 35)   float32   \n",
      " 34  EMLINE_GEW_CNT    1 ImageHDU        77   (74, 74, 35)   float32   \n",
      " 35  EMLINE_GEW_IVAR    1 ImageHDU        80   (74, 74, 35)   float32   \n",
      " 36  EMLINE_GEW_MASK    1 ImageHDU        79   (74, 74, 35)   int32   \n",
      " 37  EMLINE_GVEL    1 ImageHDU        79   (74, 74, 35)   float32   \n",
      " 38  EMLINE_GVEL_IVAR    1 ImageHDU        80   (74, 74, 35)   float32   \n",
      " 39  EMLINE_GVEL_MASK    1 ImageHDU        79   (74, 74, 35)   int32   \n",
      " 40  EMLINE_GSIGMA    1 ImageHDU        79   (74, 74, 35)   float32   \n",
      " 41  EMLINE_GSIGMA_IVAR    1 ImageHDU        80   (74, 74, 35)   float32   \n",
      " 42  EMLINE_GSIGMA_MASK    1 ImageHDU        79   (74, 74, 35)   int32   \n",
      " 43  EMLINE_INSTSIGMA    1 ImageHDU        77   (74, 74, 35)   float32   \n",
      " 44  EMLINE_TPLSIGMA    1 ImageHDU        77   (74, 74, 35)   float32   \n",
      " 45  EMLINE_GA     1 ImageHDU        77   (74, 74, 35)   float32   \n",
      " 46  EMLINE_GANR    1 ImageHDU        76   (74, 74, 35)   float32   \n",
      " 47  EMLINE_FOM    1 ImageHDU        59   (74, 74, 9)   float32   \n",
      " 48  EMLINE_LFOM    1 ImageHDU        76   (74, 74, 35)   float32   \n",
      " 49  SPECINDEX     1 ImageHDU       135   (74, 74, 46)   float32   \n",
      " 50  SPECINDEX_IVAR    1 ImageHDU       136   (74, 74, 46)   float32   \n",
      " 51  SPECINDEX_MASK    1 ImageHDU        90   (74, 74, 46)   int32   \n",
      " 52  SPECINDEX_CORR    1 ImageHDU        87   (74, 74, 46)   float32   \n",
      " 53  SPECINDEX_MODEL    1 ImageHDU        87   (74, 74, 46)   float32   \n",
      " 54  SPECINDEX_BF    1 ImageHDU       135   (74, 74, 46)   float32   \n",
      " 55  SPECINDEX_BF_IVAR    1 ImageHDU       136   (74, 74, 46)   float32   \n",
      " 56  SPECINDEX_BF_MASK    1 ImageHDU        90   (74, 74, 46)   int32   \n",
      " 57  SPECINDEX_BF_CORR    1 ImageHDU        87   (74, 74, 46)   float32   \n",
      " 58  SPECINDEX_BF_MODEL    1 ImageHDU        87   (74, 74, 46)   float32   \n",
      " 59  SPECINDEX_WGT    1 ImageHDU       135   (74, 74, 46)   float32   \n",
      " 60  SPECINDEX_WGT_IVAR    1 ImageHDU       136   (74, 74, 46)   float32   \n",
      " 61  SPECINDEX_WGT_MASK    1 ImageHDU        90   (74, 74, 46)   int32   \n",
      " 62  SPECINDEX_WGT_CORR    1 ImageHDU        87   (74, 74, 46)   float32   \n",
      " 63  SPECINDEX_WGT_MODEL    1 ImageHDU        87   (74, 74, 46)   float32   \n"
     ]
    }
   ],
   "source": [
    "maps.info()"
   ]
  }
 ],
 "metadata": {
  "kernelspec": {
   "display_name": "base",
   "language": "python",
   "name": "python3"
  },
  "language_info": {
   "codemirror_mode": {
    "name": "ipython",
    "version": 3
   },
   "file_extension": ".py",
   "mimetype": "text/x-python",
   "name": "python",
   "nbconvert_exporter": "python",
   "pygments_lexer": "ipython3",
   "version": "3.11.8"
  }
 },
 "nbformat": 4,
 "nbformat_minor": 2
}
